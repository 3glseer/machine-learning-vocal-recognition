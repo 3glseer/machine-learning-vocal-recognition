{
 "cells": [
  {
   "cell_type": "code",
   "execution_count": 1,
   "metadata": {},
   "outputs": [],
   "source": [
    "import numpy as np\n",
    "import matplotlib.pyplot as plt\n",
    "import pandas as pd\n",
    "import seaborn as sns"
   ]
  },
  {
   "cell_type": "code",
   "execution_count": 32,
   "metadata": {},
   "outputs": [],
   "source": [
    "PATH = '../data/train/npy/'\n",
    "FILE_NAME = 'train'\n",
    "N = 39\n",
    "LABELS_END_WITH = '.labels.npz'\n",
    "DATA_END_WITH = '.npy'\n",
    "\n",
    "with open(PATH + 'feature_names.txt', 'r') as f:\n",
    "    feature_names = f.read().splitlines()\n",
    "    \n",
    "data_files = [PATH + FILE_NAME + format(i, '02d') + DATA_END_WITH for i in range(1, N+1)]\n",
    "label_files = [PATH + FILE_NAME + format(i, '02d') + LABELS_END_WITH for i in range(1, N+1)]\n",
    "\n",
    "data_list = [np.load(e, mmap_mode='r') for e in data_files]\n",
    "data = np.concatenate(data_list)\n",
    "\n",
    "label_list = [np.load(e, mmap_mode='r') for e in label_files]"
   ]
  },
  {
   "cell_type": "code",
   "execution_count": 33,
   "metadata": {},
   "outputs": [],
   "source": [
    "metadata = pd.read_csv(PATH + \"metadata.txt\")\n",
    "last_performance = metadata[\"performance\"].iloc[0]\n",
    "last_composition = metadata[\"composition\"].iloc[0]\n",
    "performances = []\n",
    "performance = []\n",
    "female_labels = []\n",
    "male_labels = []\n",
    "choral_labels = []\n",
    "label = []\n",
    "for index, file in metadata.iterrows():\n",
    "    if file[1] != last_performance or file[2] != last_composition:\n",
    "        if len(performance)>1:\n",
    "            performance = np.concatenate(performance)\n",
    "            female_label = np.concatenate([e['female'][:,0] for e in label])\n",
    "            male_label = np.concatenate([e['male'][:,0] for e in label])\n",
    "            choral_label = np.concatenate([e['choral'][:,0] for e in label])\n",
    "        else:\n",
    "            performance = performance[0]\n",
    "            female_label = label[0]['female'][:,0]\n",
    "            male_label = label[0]['male'][:,0]\n",
    "            choral_label = label[0]['choral'][:,0]\n",
    "        performances.append(performance)\n",
    "        female_labels.append(female_label)\n",
    "        male_labels.append(male_label)\n",
    "        choral_labels.append(choral_label)\n",
    "        label = []\n",
    "        performance = []\n",
    "    label.append(label_list[index])\n",
    "    performance.append(data_list[index])\n",
    "    last_performance = file[1]\n",
    "    last_composition = file[2]\n",
    "if len(performance)>1:\n",
    "    performance = np.concatenate(performance)\n",
    "    female_label = np.concatenate([e['female'][:,0] for e in label])\n",
    "    male_label = np.concatenate([e['male'][:,0] for e in label])\n",
    "    choral_label = np.concatenate([e['choral'][:,0] for e in label])\n",
    "else:\n",
    "    performance = performance[0]\n",
    "    female_label = label[0]['female'][:,0]\n",
    "    male_label = label[0]['male'][:,0]\n",
    "    choral_label = label[0]['choral'][:,0]\n",
    "performances.append(performance)\n",
    "female_labels.append(female_label)\n",
    "male_labels.append(male_label)\n",
    "choral_labels.append(choral_label)"
   ]
  },
  {
   "cell_type": "code",
   "execution_count": 37,
   "metadata": {},
   "outputs": [
    {
     "name": "stdout",
     "output_type": "stream",
     "text": [
      "(158369, 627) (158369,) (158369,) (158369,)\n"
     ]
    }
   ],
   "source": [
    "n_perf = 8\n",
    "X = np.concatenate(performances[0:n_perf])\n",
    "y_fema = np.concatenate(female_labels[0:n_perf])\n",
    "y_male = np.concatenate(male_labels[0:n_perf])\n",
    "y_chor = np.concatenate(choral_labels[0:n_perf])\n",
    "print(X.shape, y_fema.shape, y_male.shape, y_chor.shape)"
   ]
  },
  {
   "cell_type": "code",
   "execution_count": null,
   "metadata": {},
   "outputs": [],
   "source": [
    "from sklearn.svm import LinearSVC\n",
    "from sklearn.linear_model import LogisticRegression\n",
    "from sklearn.preprocessing import StandardScaler\n",
    "from sklearn.pipeline import make_pipeline\n",
    "from sklearn.ensemble import StackingClassifier\n",
    "\n",
    "from sklearn.ensemble import RandomForestClassifier\n",
    "from sklearn.linear_model import LinearRegression\n",
    "from sklearn.neighbors import KNeighborsClassifier\n",
    "from sklearn.decomposition import PCA\n",
    "from sklearn.cross_decomposition import CCA\n",
    "from sklearn.feature_selection import SelectKBest\n",
    "from sklearn.linear_model import SGDClassifier\n",
    "from sklearn.svm import SVC\n",
    "from sklearn.pipeline import Pipeline\n",
    "\n",
    "pipe_KNN = Pipeline([('scaling', StandardScaler()),\n",
    "                  ('feature_selection', PCA(n_components=35, whiten=False)),\n",
    "                  ('clf',KNeighborsClassifier(n_neighbors = 12, leaf_size = 30, n_jobs = -1))])\n",
    "\n",
    "pipe_SVC = Pipeline([('scaling', StandardScaler()),\n",
    "                     ('pca', PCA(n_components=75, whiten=False)),\n",
    "                     ('clf',SVC(kernel='poly', n_jobs = -1))])\n",
    "\n",
    "pipe_RFC = Pipeline([('scaling', StandardScaler()),\n",
    "                     ('pca', PCA(n_components=20, whiten=False)),\n",
    "                     ('clf', RandomForestClassifier(n_jobs = -1))])\n",
    "\n",
    "pipe_SGD = Pipeline([('scaling', StandardScaler()),\n",
    "                     ('pca', PCA(n_components=400, whiten=False)),\n",
    "                     ('clf', SGDClassifier(n_jobs = -1))])\n",
    "\n",
    "estimators = [\n",
    "    ('knn', pipe_KNN),\n",
    "    ('svr', pipe_SVC)\n",
    "]\n",
    "clf = StackingClassifier(\n",
    "    estimators=estimators, final_estimator=LogisticRegression()\n",
    ")\n",
    "\n",
    "clf.fit(X, y_fema).score(performances[8], female_labels[8])"
   ]
  },
  {
   "cell_type": "code",
   "execution_count": 38,
   "metadata": {},
   "outputs": [
    {
     "data": {
      "text/plain": [
       "array([[-99.97676   ,   0.        ,   0.        , ...,   0.        ,\n",
       "          0.        ,   0.        ],\n",
       "       [-99.97676   ,   0.        ,   0.        , ...,   0.        ,\n",
       "          0.        ,   0.        ],\n",
       "       [-99.97676   ,   0.        ,   0.        , ...,   0.        ,\n",
       "          0.        ,   0.        ],\n",
       "       ...,\n",
       "       [-29.2129    ,  -0.67048556,   3.5059078 , ...,   6.3670654 ,\n",
       "          5.7996674 ,   5.502762  ],\n",
       "       [-31.19904   ,  -0.8127712 ,   3.3837333 , ...,   6.3670654 ,\n",
       "          5.7996674 ,   5.502762  ],\n",
       "       [-32.640068  ,  -0.85196954,   3.3044486 , ...,   6.3670654 ,\n",
       "          5.6832886 ,   5.3008575 ]], dtype=float32)"
      ]
     },
     "execution_count": 38,
     "metadata": {},
     "output_type": "execute_result"
    }
   ],
   "source": []
  },
  {
   "cell_type": "code",
   "execution_count": null,
   "metadata": {},
   "outputs": [],
   "source": []
  },
  {
   "cell_type": "code",
   "execution_count": null,
   "metadata": {},
   "outputs": [],
   "source": []
  }
 ],
 "metadata": {
  "kernelspec": {
   "display_name": "Python 3",
   "language": "python",
   "name": "python3"
  },
  "language_info": {
   "codemirror_mode": {
    "name": "ipython",
    "version": 3
   },
   "file_extension": ".py",
   "mimetype": "text/x-python",
   "name": "python",
   "nbconvert_exporter": "python",
   "pygments_lexer": "ipython3",
   "version": "3.7.7"
  }
 },
 "nbformat": 4,
 "nbformat_minor": 4
}
